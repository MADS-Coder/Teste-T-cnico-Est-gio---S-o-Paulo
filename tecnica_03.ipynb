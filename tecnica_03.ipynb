{
 "cells": [
  {
   "cell_type": "markdown",
   "metadata": {},
   "source": [
    "<font color=yellow> O menor valor de faturamento ocorrido em um dia do mês </font>"
   ]
  },
  {
   "cell_type": "code",
   "execution_count": 5,
   "metadata": {},
   "outputs": [],
   "source": [
    "import pandas as pd\n",
    "\n",
    "df = pd.read_json('dados.json')"
   ]
  },
  {
   "cell_type": "code",
   "execution_count": 6,
   "metadata": {},
   "outputs": [],
   "source": [
    "dicionario = df.to_dict(orient='records')"
   ]
  },
  {
   "cell_type": "code",
   "execution_count": null,
   "metadata": {},
   "outputs": [],
   "source": [
    "valores_maior_que_zero = []\n",
    "for dia in dicionario:\n",
    "    if dia['valor'] > 0:\n",
    "        valores_maior_que_zero.append(dia['valor'])\n",
    "        print(dia['valor']) "
   ]
  },
  {
   "cell_type": "code",
   "execution_count": null,
   "metadata": {},
   "outputs": [],
   "source": [
    "menor_valor_faturado = min(valores_maior_que_zero)\n",
    "print(f\"O menor valor faturado foi {menor_valor_faturado}\")"
   ]
  },
  {
   "cell_type": "markdown",
   "metadata": {},
   "source": [
    "<font color=yellow> O maior valor de faturamento ocorrido em um dia do mês </font>"
   ]
  },
  {
   "cell_type": "code",
   "execution_count": null,
   "metadata": {},
   "outputs": [],
   "source": [
    "maior_valor_faturado = max(valores_maior_que_zero)\n",
    "print(f\"O menor valor faturado foi {maior_valor_faturado}\")"
   ]
  },
  {
   "cell_type": "markdown",
   "metadata": {},
   "source": [
    "<font color=yellow> Número de dias no mês em que o valor de faturamento diário foi superior à média mensal. </font>"
   ]
  },
  {
   "cell_type": "code",
   "execution_count": 35,
   "metadata": {},
   "outputs": [],
   "source": [
    "valores_total= []\n",
    "for valor in dicionario:\n",
    "    valores_total.append(valor['valor'])"
   ]
  },
  {
   "cell_type": "code",
   "execution_count": 39,
   "metadata": {},
   "outputs": [],
   "source": [
    "total_valor = sum(valores_total)\n",
    "media_mensal = total_valor / len(valores_total)"
   ]
  },
  {
   "cell_type": "code",
   "execution_count": null,
   "metadata": {},
   "outputs": [],
   "source": [
    "n_dias = 0\n",
    "for dias in dicionario:\n",
    "    if dias['valor'] > media_mensal:\n",
    "        n_dias += 1\n",
    "print(f'Número de dias no mês em que o valor de faturamento diário foi superior à média mensal corresponde\\na {n_dias} dias.')"
   ]
  },
  {
   "cell_type": "code",
   "execution_count": null,
   "metadata": {},
   "outputs": [],
   "source": []
  }
 ],
 "metadata": {
  "kernelspec": {
   "display_name": "Python 3",
   "language": "python",
   "name": "python3"
  },
  "language_info": {
   "codemirror_mode": {
    "name": "ipython",
    "version": 3
   },
   "file_extension": ".py",
   "mimetype": "text/x-python",
   "name": "python",
   "nbconvert_exporter": "python",
   "pygments_lexer": "ipython3",
   "version": "3.12.5"
  }
 },
 "nbformat": 4,
 "nbformat_minor": 2
}

{
 "cells": [
  {
   "cell_type": "code",
   "execution_count": 230,
   "metadata": {},
   "outputs": [],
   "source": [
    "# Dados de faturamento por estado\n",
    "faturamento_mensal = {\n",
    "    'SP': '67.836,43',\n",
    "    'RJ': '36.678,66',\n",
    "    'MG': '29.229,88',\n",
    "    'ES': '27.165,48',\n",
    "    'Outros': '19.849,53'\n",
    "}\n",
    "\n",
    "# Criando um novo dicionário com os valores formatados\n",
    "novo_faturamento_mensal = {}\n",
    "\n",
    "# Função para converter strings numéricas formatadas no estilo brasileiro em números\n",
    "for estado, valor in faturamento_mensal.items():\n",
    "    try:\n",
    "        # Remover os pontos (separador de milhar) e substituir a vírgula (separador decimal) por ponto\n",
    "        formatando_valores = valor.replace('.', '').replace(',', '.')\n",
    "        # Converter para float\n",
    "        faturamento_mensal[estado] = float(formatando_valores)\n",
    "        # Criando um novo dicionário\n",
    "        novo_faturamento_mensal[estado] = faturamento_mensal[estado]\n",
    "    except ValueError:\n",
    "        # Se não puder converter, mantém o valor original\n",
    "        pass"
   ]
  },
  {
   "cell_type": "code",
   "execution_count": 232,
   "metadata": {},
   "outputs": [],
   "source": [
    "# Soma dos valores, ou seja, valor total de faturamento\n",
    "total_faturamento = sum(novo_faturamento_mensal.values())"
   ]
  },
  {
   "cell_type": "code",
   "execution_count": 238,
   "metadata": {},
   "outputs": [
    {
     "name": "stdout",
     "output_type": "stream",
     "text": [
      "SP: 37.53%\n",
      "RJ: 20.29%\n",
      "MG: 16.17%\n",
      "ES: 15.03%\n",
      "Outros: 10.98%\n",
      "\n",
      "O Valor Total mensal da distribuidadora é R$ 180759.98\n"
     ]
    }
   ],
   "source": [
    "# O código abaixo calcula o percentual de cada estado baseado no valor total mensal da distribuidora.\n",
    "for estados, valores in novo_faturamento_mensal.items():\n",
    "    percentual = (valores/total_faturamento) * 100 # Calcula o percentual de cada estado.\n",
    "    print(f'{estados}: {percentual:.2f}%')\n",
    "print(f'\\nO Valor Total mensal da distribuidadora é R$ {total_faturamento:.2f}')"
   ]
  },
  {
   "cell_type": "code",
   "execution_count": null,
   "metadata": {},
   "outputs": [],
   "source": []
  }
 ],
 "metadata": {
  "language_info": {
   "name": "python"
  }
 },
 "nbformat": 4,
 "nbformat_minor": 2
}
